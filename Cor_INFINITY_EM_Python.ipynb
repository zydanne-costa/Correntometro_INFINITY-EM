{
  "nbformat": 4,
  "nbformat_minor": 0,
  "metadata": {
    "colab": {
      "provenance": []
    },
    "kernelspec": {
      "name": "python3",
      "display_name": "Python 3"
    },
    "language_info": {
      "name": "python"
    }
  },
  "cells": [
    {
      "cell_type": "code",
      "execution_count": null,
      "metadata": {
        "id": "bqw6w3eV28Xo"
      },
      "outputs": [],
      "source": [
        "#==========================================================================\n",
        "# SCRIPT DE PROCESSAMENTO DE DADOS DE CORRENTE\n",
        "#--------------------------------------------------------------------------\n",
        "# Autor: Zydanne Costa\n",
        "# Data: 09 de setembro de 2024\n",
        "# Analise de Dados de Correntes - Correntometro JFE Advantech\n",
        "# Descricao: Este script e destinado ao tratamento e visualizacao dos dados\n",
        "# adquiridos de um correntometro eletromagnetico JFE Advantech. Os dados\n",
        "# incluem informacoes sobre direcao e velocidade das correntes. O script\n",
        "# realiza a importacao, manipulacao e plotagem dos dados de forma detalhada\n",
        "# e visualmente clara.\n",
        "#--------------------------------------------------------------------------\n",
        "#\n",
        "#==========================================================================\n",
        "\n",
        "# instalando biblioteca windrose p visualisar dados de direcao de corrente\n",
        "!pip install windrose\n",
        "from windrose import WindroseAxes"
      ]
    },
    {
      "cell_type": "code",
      "source": [
        "# importando bibliotecas que serao utilizadas\n",
        "import pandas as pd\n",
        "import numpy as np # biblioteca numerica\n",
        "import matplotlib.pyplot as plt # biblioteca para plotar graficos\n",
        "# importando funcoes das bibliotecas\n",
        "from matplotlib.dates import DateFormatter # formatar data e hora\n",
        "from matplotlib.ticker import FormatStrFormatter # formatação de string\n",
        "from datetime import datetime, timedelta"
      ],
      "metadata": {
        "id": "UYBY6frq4IC1"
      },
      "execution_count": null,
      "outputs": []
    },
    {
      "cell_type": "code",
      "source": [
        "# autorização p utilizar o drive\n",
        "from google.colab import drive\n",
        "drive.mount('/content/drive')\n",
        "path='/content/drive/MyDrive/Seu/Caminho/Aqui' # caminho da pasta onde esta o arquivo"
      ],
      "metadata": {
        "id": "aSzxfQ-84N5O"
      },
      "execution_count": null,
      "outputs": []
    },
    {
      "cell_type": "code",
      "source": [
        "# carregando os dados em .csv\n",
        "df = pd.read_csv(path+'/NomeDoArquivo.csv', skiprows=75, encoding='ISO-8859-1')\n",
        "# skiprows = n de linhas ignoradas (cabeçalho) até chegar a linhas de dados reais; geralmente sao 75, verifique seu arquivo bruto\n",
        "# encoding = codificação que varia com a formatação do arquivo (.csv/.txt...)\n",
        "\n",
        "df = df.iloc[:, :3]\n",
        "# mantendo apenas as colunas de 1 a 3 (data+hora, velocidade, direção)\n",
        "\n",
        "df['Velo.[cm/sec]'] = df['Velo.[cm/sec]']/100 # transformando cm/sec p m/s"
      ],
      "metadata": {
        "id": "dv1zTVL_4fa7"
      },
      "execution_count": null,
      "outputs": []
    },
    {
      "cell_type": "code",
      "source": [
        "# definindo variaveis\n",
        "time = df['Meas date']\n",
        "vel = df['Velo.[cm/sec]']\n",
        "dir = df['Dir.[deg]']"
      ],
      "metadata": {
        "id": "JI-sxnat4iRT"
      },
      "execution_count": null,
      "outputs": []
    },
    {
      "cell_type": "code",
      "source": [
        "# decomposicao vetorial\n",
        "dm = -20.16 # declinacao magnetica do local\n",
        "alfa = 0 #grau de rotacao do canal, varia de acordo com seu ponto de coleta (fiz no google earth) | para agua parada agua = 0\n",
        "teta = 90-(dir+dm)+alfa # definindo o angulo teta pra componente u\n",
        "m =(teta*pi)/180 # Transformando graus para radianos\n",
        "vel_u = vel.*cos(m) # decomposicao do vetor\n",
        "vel_v = vel.*sin(m) # o v pode servir para verificar a advecao\n",
        "data.Componente_u = vel_u;\n",
        "data.Componente_v = vel_v;"
      ],
      "metadata": {
        "id": "nOjfz_QT4lSz"
      },
      "execution_count": null,
      "outputs": []
    },
    {
      "cell_type": "code",
      "source": [
        "# velocidade\n",
        "\n",
        "plt.figure(figsize=(10,5)) # definindo o tamanho da figura\n",
        "plt.plot(time, vel, linewidth=1, c='b')\n",
        "plt.title('Velocidade da Corrente (m/s)', fontsize=16) # titulo do grafico\n",
        "plt.xlabel('Tempo', fontsize=12) # rotulo do eixo x\n",
        "plt.ylabel('Velocidade (m/s)', fontsize=12) # rotulo eixo y\n",
        "plt.grid(linestyle='--')"
      ],
      "metadata": {
        "id": "51Ot3UII4p0j"
      },
      "execution_count": null,
      "outputs": []
    },
    {
      "cell_type": "code",
      "source": [
        "# direcao\n",
        "\n",
        "plt.figure(figsize=(10,5)) # definindo o tamanho da figura\n",
        "plt.scatter(time, dir, marker='*', c='b')\n",
        "plt.title('Direção da Corrente', fontsize=16) # titulo do grafico\n",
        "plt.xlabel('Tempo', fontsize=12) # rotulo do eixo x\n",
        "plt.ylabel('Direção (graus)', fontsize=12) # rotulo eixo y\n",
        "plt.grid(linestyle='--')"
      ],
      "metadata": {
        "id": "5sm_16bm4sbU"
      },
      "execution_count": null,
      "outputs": []
    },
    {
      "cell_type": "code",
      "source": [
        "# histograma para direcao\n",
        "plt.hist(dir)"
      ],
      "metadata": {
        "id": "7wx8MEPg4tYz"
      },
      "execution_count": null,
      "outputs": []
    },
    {
      "cell_type": "code",
      "source": [
        "# direcao (rosa dos ventos)\n",
        "ax = WindroseAxes.from_ax()\n",
        "ax.bar(dir, vel, nsector=8)\n",
        "ax.set_legend()"
      ],
      "metadata": {
        "id": "5JNkLQ1d4vZq"
      },
      "execution_count": null,
      "outputs": []
    }
  ]
}